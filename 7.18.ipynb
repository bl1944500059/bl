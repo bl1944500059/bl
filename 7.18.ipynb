{
 "cells": [
  {
   "cell_type": "markdown",
   "metadata": {},
   "source": [
    "# 选择\n",
    "## 布尔类型、数值和表达式\n",
    "![](../Photo/33.png)\n",
    "- 注意：比较运算符的相等是两个等到，一个等到代表赋值\n",
    "- 在Python中可以用整型0来代表False，其他数字来代表True\n",
    "- 后面还会讲到 is 在判断语句中的用发"
   ]
  },
  {
   "cell_type": "code",
   "execution_count": 79,
   "metadata": {},
   "outputs": [
    {
     "name": "stdout",
     "output_type": "stream",
     "text": [
      "请输入密码\n"
     ]
    },
    {
     "ename": "TypeError",
     "evalue": "eval() arg 1 must be a string, bytes or code object",
     "output_type": "error",
     "traceback": [
      "\u001b[1;31m---------------------------------------------------------------------------\u001b[0m",
      "\u001b[1;31mTypeError\u001b[0m                                 Traceback (most recent call last)",
      "\u001b[1;32m<ipython-input-79-4089c5046675>\u001b[0m in \u001b[0;36m<module>\u001b[1;34m()\u001b[0m\n\u001b[0;32m      3\u001b[0m \u001b[0mmm\u001b[0m \u001b[1;33m=\u001b[0m \u001b[1;36m123456\u001b[0m\u001b[1;33m\u001b[0m\u001b[0m\n\u001b[0;32m      4\u001b[0m \u001b[1;32mwhile\u001b[0m \u001b[1;36m1\u001b[0m\u001b[1;33m:\u001b[0m\u001b[1;33m\u001b[0m\u001b[0m\n\u001b[1;32m----> 5\u001b[1;33m     \u001b[0mpw\u001b[0m \u001b[1;33m=\u001b[0m \u001b[0meval\u001b[0m\u001b[1;33m(\u001b[0m\u001b[0mprint\u001b[0m\u001b[1;33m(\u001b[0m\u001b[1;34m'请输入密码'\u001b[0m\u001b[1;33m)\u001b[0m\u001b[1;33m)\u001b[0m\u001b[1;33m\u001b[0m\u001b[0m\n\u001b[0m\u001b[0;32m      6\u001b[0m     \u001b[1;32mif\u001b[0m \u001b[0mmm\u001b[0m \u001b[1;33m==\u001b[0m \u001b[0mpw\u001b[0m\u001b[1;33m:\u001b[0m\u001b[1;33m\u001b[0m\u001b[0m\n\u001b[0;32m      7\u001b[0m         \u001b[0mprint\u001b[0m\u001b[1;33m(\u001b[0m\u001b[1;34m'密码正确'\u001b[0m\u001b[1;33m)\u001b[0m\u001b[1;33m\u001b[0m\u001b[0m\n",
      "\u001b[1;31mTypeError\u001b[0m: eval() arg 1 must be a string, bytes or code object"
     ]
    }
   ],
   "source": [
    "a = 10000\n",
    "#a = b\n",
    "mm = 123456\n",
    "while 1:\n",
    "    pw = eval(print('请输入密码'))\n",
    "    if mm == pw:\n",
    "        print('密码正确')\n",
    "        break\n",
    "    else:\n",
    "        print(\"密码错误，请重新输入\")\n",
    "while 1:\n",
    "    x = eval(input('取钱数目'))\n",
    "    if x > a:\n",
    "        print('余额不足,请重新输入')\n",
    "    else:\n",
    "        print('取款中，请稍后')\n",
    "        b = a - x\n",
    "        print('您的余额为:',round(b,2))\n",
    "        break"
   ]
  },
  {
   "cell_type": "markdown",
   "metadata": {},
   "source": [
    "## 字符串的比较使用ASCII值"
   ]
  },
  {
   "cell_type": "markdown",
   "metadata": {},
   "source": [
    "## Markdown \n",
    "- https://github.com/younghz/Markdown"
   ]
  },
  {
   "cell_type": "markdown",
   "metadata": {},
   "source": [
    "## EP:\n",
    "- <img src=\"../Photo/34.png\"></img>\n",
    "- 输入一个数字，判断其实奇数还是偶数"
   ]
  },
  {
   "cell_type": "markdown",
   "metadata": {},
   "source": [
    "## 产生随机数字\n",
    "- 函数random.randint(a,b) 可以用来产生一个a和b之间且包括a和b的随机整数"
   ]
  },
  {
   "cell_type": "markdown",
   "metadata": {},
   "source": [
    "##  其他random方法\n",
    "- random.random 返回0.0到1.0之间前闭后开区间的随机浮点\n",
    "- random.randrange(a,b) 前闭后开"
   ]
  },
  {
   "cell_type": "markdown",
   "metadata": {},
   "source": [
    "## EP：\n",
    "- 产生两个随机整数number1和number2，然后显示给用户，使用户输入数字的和，并判定其是否正确\n",
    "- 进阶:写一个随机序号点名程序"
   ]
  },
  {
   "cell_type": "code",
   "execution_count": 72,
   "metadata": {},
   "outputs": [
    {
     "name": "stdout",
     "output_type": "stream",
     "text": [
      "请坐在(10,5)上的同学回答问题\n"
     ]
    }
   ],
   "source": [
    "import random\n",
    "x = random.randint(1,5)\n",
    "y = random.randint(1,10)\n",
    "x = str(x)\n",
    "y = str(y)\n",
    "print('请坐在('+y+','+x+')上的同学回答问题')"
   ]
  },
  {
   "cell_type": "markdown",
   "metadata": {},
   "source": [
    "## if语句\n",
    "- 如果条件正确就执行一个单向if语句，亦即当条件为真的时候才执行if内部的语句\n",
    "- Python有很多选择语句:\n",
    "> - 单向if \n",
    "  - 双向if-else\n",
    "  - 嵌套if\n",
    "  - 多向if-elif-else\n",
    "  \n",
    "- 注意：当语句含有子语句的时候，那么一定至少要有一个缩进，也就是说如果有儿子存在，那么一定要缩进\n",
    "- 切记不可tab键和space混用，单用tab 或者 space\n",
    "- 当你输出的结果是无论if是否为真时都需要显示时，语句应该与if对齐"
   ]
  },
  {
   "cell_type": "code",
   "execution_count": 89,
   "metadata": {},
   "outputs": [
    {
     "name": "stdout",
     "output_type": "stream",
     "text": [
      "请输入分数999\n",
      "错误\n"
     ]
    }
   ],
   "source": [
    "x = eval(input('请输入分数'))\n",
    "if x > 100:\n",
    "    print('错误')\n",
    "elif x >= 90 and x <=100:\n",
    "    print('A')\n",
    "elif x >=80 and x <=90:\n",
    "    print('B')\n",
    "elif x >=70 and x <=80:\n",
    "    print('C')\n",
    "elif x >=60 and x <=70:\n",
    "    print('D')\n",
    "else:\n",
    "    print('E')"
   ]
  },
  {
   "cell_type": "markdown",
   "metadata": {},
   "source": [
    "## EP：\n",
    "- 用户输入一个数字，判断其实奇数还是偶数\n",
    "- 进阶：可以查看下4.5实例研究猜生日"
   ]
  },
  {
   "cell_type": "code",
   "execution_count": null,
   "metadata": {},
   "outputs": [],
   "source": []
  },
  {
   "cell_type": "markdown",
   "metadata": {},
   "source": [
    "## 双向if-else 语句\n",
    "- 如果条件为真，那么走if内部语句，否则走else内部语句"
   ]
  },
  {
   "cell_type": "markdown",
   "metadata": {},
   "source": [
    "## EP：\n",
    "- 产生两个随机整数number1和number2，然后显示给用户，使用户输入数字，并判定其是否正确,如果正确打印“you‘re correct”，否则打印正确错误"
   ]
  },
  {
   "cell_type": "markdown",
   "metadata": {},
   "source": [
    "## 嵌套if 和多向if-elif-else\n",
    "![](../Photo/35.png)"
   ]
  },
  {
   "cell_type": "markdown",
   "metadata": {},
   "source": [
    "## EP：\n",
    "- 提示用户输入一个年份，然后显示表示这一年的动物\n",
    "![](../Photo/36.png)\n",
    "- 计算身体质量指数的程序\n",
    "- BMI = 以千克为单位的体重除以以米为单位的身高\n",
    "![](../Photo/37.png)"
   ]
  },
  {
   "cell_type": "code",
   "execution_count": 90,
   "metadata": {},
   "outputs": [
    {
     "name": "stdout",
     "output_type": "stream",
     "text": [
      "请输入一个年份2018\n",
      "狗\n"
     ]
    }
   ],
   "source": [
    "y = eval(input('请输入一个年份'))\n",
    "if y % 12 == 0:\n",
    "    print('猴')\n",
    "elif y % 12 == 1:\n",
    "    print('鸡')\n",
    "elif y % 12 == 2:\n",
    "    print('狗')\n",
    "by % 12 == 3:\n",
    "    print('猪')\n",
    "elif y % 12 == 4:\n",
    "    print('鼠')\n",
    "elif y % 12 == 5:\n",
    "    print('牛')\n",
    "elif y % 12 == 6:\n",
    "    print('虎')\n",
    "elif y % 12 == 7:\n",
    "    print('兔')\n",
    "elif y % 12 == 8:\n",
    "    print('龙')\n",
    "elif y % 12 == 9:\n",
    "    print('蛇')\n",
    "elif y % 12 == 10:\n",
    "    print('马')\n",
    "elif y % 12 == 11:\n",
    "    print('羊')\n",
    "else:\n",
    "    print('error')"
   ]
  },
  {
   "cell_type": "code",
   "execution_count": null,
   "metadata": {},
   "outputs": [
    {
     "name": "stdout",
     "output_type": "stream",
     "text": [
      "请输入你的身高（m）和体重（kg）:1.79,55.8\n",
      "痴肥\n",
      "请输入你的身高（m）和体重（kg）:1.79,90\n",
      "痴肥\n"
     ]
    }
   ],
   "source": [
    "while 1:\n",
    "    l,n = eval(input('请输入你的身高（m）和体重（kg）:'))\n",
    "    bmi = n / l\n",
    "    if bmi < 18.5:\n",
    "        print('超轻')\n",
    "    elif 18.5 <= bmi < 25.0:\n",
    "        print('标准')\n",
    "    elif 25.0 <= bmi < 30.0:\n",
    "        print('超重')\n",
    "    elif bmi >=30.0:\n",
    "        print('痴肥')\n",
    "    else:\n",
    "        print()"
   ]
  },
  {
   "cell_type": "markdown",
   "metadata": {},
   "source": [
    "## 逻辑运算符\n",
    "![](../Photo/38.png)"
   ]
  },
  {
   "cell_type": "markdown",
   "metadata": {},
   "source": [
    "![](../Photo/39.png)\n",
    "![](../Photo/40.png)"
   ]
  },
  {
   "cell_type": "markdown",
   "metadata": {},
   "source": [
    "## EP：\n",
    "- 判定闰年：一个年份如果能被4整除但不能被100整除，或者能被400整除，那么这个年份就是闰年\n",
    "- 提示用户输入一个年份，并返回是否是闰年\n",
    "- 提示用户输入一个数字，判断其是否为水仙花数"
   ]
  },
  {
   "cell_type": "markdown",
   "metadata": {},
   "source": [
    "## EP：\n",
    "- 判定闰年：一个年份如果能被4整除但不能被100整除，或者能被400整除，那么这个年份就是闰年\n",
    "- 提示用户输入一个年份，并返回是否是闰年\n",
    "- 提示用户输入一个数字，判断其是否为水仙花数"
   ]
  },
  {
   "cell_type": "code",
   "execution_count": 7,
   "metadata": {
    "scrolled": true
   },
   "outputs": [
    {
     "name": "stdout",
     "output_type": "stream",
     "text": [
      "输入年份2000\n",
      "闰年\n"
     ]
    }
   ],
   "source": [
    "y = eval(input('输入年份'))\n",
    "if (y % 4 == 0 and y % 100 != 0) or y % 400 == 0:\n",
    "    print('闰年')\n",
    "else:\n",
    "    print('no')"
   ]
  },
  {
   "cell_type": "code",
   "execution_count": 9,
   "metadata": {},
   "outputs": [
    {
     "name": "stdout",
     "output_type": "stream",
     "text": [
      "153\n",
      "370\n",
      "371\n",
      "407\n"
     ]
    }
   ],
   "source": [
    "for i in range(2,999):\n",
    "    a = i//100\n",
    "    b = i%100//10\n",
    "    c = i%100%10\n",
    "    if i == pow(a,3)+pow(b,3)+pow(c,3):\n",
    "        print(i)"
   ]
  },
  {
   "cell_type": "markdown",
   "metadata": {},
   "source": [
    "## 实例研究：彩票\n",
    "![](../Photo/41.png)"
   ]
  },
  {
   "cell_type": "code",
   "execution_count": 25,
   "metadata": {},
   "outputs": [
    {
     "name": "stdout",
     "output_type": "stream",
     "text": [
      "0 6\n",
      "请输入一个两位数06\n",
      "$10000\n"
     ]
    }
   ],
   "source": [
    "import random\n",
    "a = random.randint(0,9)\n",
    "b = random.randint(0,9)\n",
    "print(a,b)\n",
    "x = str(input('请输入一个两位数'))\n",
    "if a == int(x[0]) and b == int(x[1]):\n",
    "    print ('$10000')\n",
    "elif a==int(x[1]) and b == int(x[0]):\n",
    "    print('$3000')\n",
    "elif a == int(x[0]) or a == int(x[1]) or b == int(x[0]) or b == int(x[1]):\n",
    "    print('$1000')\n",
    "else:\n",
    "    print('没中')"
   ]
  },
  {
   "cell_type": "markdown",
   "metadata": {},
   "source": [
    "# Homework\n",
    "- 1\n",
    "![](../Photo/42.png)"
   ]
  },
  {
   "cell_type": "code",
   "execution_count": 30,
   "metadata": {},
   "outputs": [
    {
     "name": "stdout",
     "output_type": "stream",
     "text": [
      "Enter a,b,c:1,2,3\n",
      "The equation has no real roots\n"
     ]
    }
   ],
   "source": [
    "import math\n",
    "a,b,c = eval(input('Enter a,b,c:'))\n",
    "x = pow(b,2)-4*a*c\n",
    "if x < 0:\n",
    "    print('The equation has no real roots')\n",
    "elif x > 0:\n",
    "    r1 = (-b+math.sqrt(x))/2*a\n",
    "    r2 = (-b-math.sqrt(x))/2*a\n",
    "    print('The roots are',r1,'and',r2)\n",
    "elif x == 0:\n",
    "    r = -(b/2*a)\n",
    "    print('The root is',r)"
   ]
  },
  {
   "cell_type": "markdown",
   "metadata": {},
   "source": [
    "- 2\n",
    "![](../Photo/43.png)"
   ]
  },
  {
   "cell_type": "code",
   "execution_count": 32,
   "metadata": {},
   "outputs": [
    {
     "name": "stdout",
     "output_type": "stream",
     "text": [
      "72 65\n",
      "请输入两数之和100\n",
      "fales\n"
     ]
    }
   ],
   "source": [
    "import random\n",
    "a = random.randint(0,100)\n",
    "b = random.randint(0,100)\n",
    "print(a,b)\n",
    "x = eval(input('请输入两数之和'))\n",
    "if a+b == x:\n",
    "    print('true')\n",
    "else:\n",
    "    print('fales')"
   ]
  },
  {
   "cell_type": "markdown",
   "metadata": {},
   "source": [
    "- 3\n",
    "![](../Photo/44.png)"
   ]
  },
  {
   "cell_type": "code",
   "execution_count": null,
   "metadata": {},
   "outputs": [],
   "source": [
    "d = eval(input('Enter today\\'s day:'))\n",
    "nd = eval(input('Enter the number of days elapsed since today:'))\n",
    "y = nd%7+d\n",
    "if y == 0:\n",
    "    dd = '周日'\n",
    "    print('Today is 星期',d,'the future day is',dd)\n",
    "elif y == 1:\n",
    "    dd = '周一'\n",
    "    print('Today is 星期',d,'the future day is',dd)\n",
    "elif y == 2:\n",
    "    dd = '周二'\n",
    "    print('Today is 星期',d,'the future day is',dd)\n",
    "elif y == 3:\n",
    "    dd = '周三'\n",
    "    print('Today is 星期',d,'the future day is',dd)\n",
    "elif y == 4:\n",
    "    dd = '周四'\n",
    "    print('Today is 星期',d,'the future day is',dd)\n",
    "elif y == 5:\n",
    "    dd = '周五'\n",
    "    print('Today is 星期',d,'the future day is',dd)\n",
    "elif y == 6:\n",
    "    dd = '周六'\n",
    "    print('Today is 星期',d,'the future day is',dd)\n",
    "else:\n",
    "    print()"
   ]
  },
  {
   "cell_type": "markdown",
   "metadata": {},
   "source": [
    "- 4\n",
    "![](../Photo/45.png)\n",
    "\n",
    "- 5\n",
    "![](../Photo/46.png)\n",
    "\n",
    "- 6\n",
    "![](../Photo/47.png)\n",
    "\n",
    "- 7\n",
    "![](../Photo/48.png)"
   ]
  },
  {
   "cell_type": "code",
   "execution_count": 99,
   "metadata": {},
   "outputs": [
    {
     "name": "stdout",
     "output_type": "stream",
     "text": [
      "Enter 三个数6,5,4\n",
      "4 5 6\n"
     ]
    }
   ],
   "source": [
    "#4题\n",
    "x,y,z = eval(input('Enter 三个数'))\n",
    "a = 0\n",
    "if x > y and x > z:\n",
    "    a = x\n",
    "    x = z\n",
    "    z = a\n",
    "    if x > y:\n",
    "        a = y\n",
    "        y = x\n",
    "        x = a\n",
    "        print (x,y,z)\n",
    "    else:\n",
    "        print (x,y,z)\n",
    "elif x > y and x < z:\n",
    "    a = x\n",
    "    x = y\n",
    "    y = a\n",
    "    if x > y:\n",
    "        a = y\n",
    "        y = x\n",
    "        x = a\n",
    "        print (x,y,z)\n",
    "    else:\n",
    "        print (x,y,z)\n",
    "elif x < y and y > z:\n",
    "    a = y\n",
    "    y = z\n",
    "    z = a\n",
    "    if x > y:\n",
    "        a = y\n",
    "        y = x\n",
    "        x = a\n",
    "        print(x,y,z)\n",
    "    else:\n",
    "        print(x,y,z)\n",
    "else:\n",
    "    print(x,y,z)"
   ]
  },
  {
   "cell_type": "code",
   "execution_count": 101,
   "metadata": {},
   "outputs": [
    {
     "name": "stdout",
     "output_type": "stream",
     "text": [
      "enter weight and price for package1:50,24.59\n",
      "enter weight and price for package2:25,11.99\n",
      "package 2\n"
     ]
    }
   ],
   "source": [
    "#5题\n",
    "a,b = eval(input('enter weight and price for package1:'))\n",
    "x,y = eval(input('enter weight and price for package2:'))\n",
    "if b / a < y / x:\n",
    "    print('package 1')\n",
    "elif b / a == y / x:\n",
    "    print('相同')\n",
    "else:\n",
    "    print('package 2')"
   ]
  },
  {
   "cell_type": "code",
   "execution_count": 105,
   "metadata": {},
   "outputs": [
    {
     "name": "stdout",
     "output_type": "stream",
     "text": [
      "输入月和年:3,2005\n",
      "2005 年 3 月有31天\n"
     ]
    }
   ],
   "source": [
    "#6题\n",
    "m,y = eval(input('输入月和年:'))\n",
    "if (y % 4 == 0 and y % 100 != 0) or y % 400 == 0:\n",
    "    if m == 1 or m == 3 or m == 5 or m == 7 or m ==8 or m == 10 or m == 12:\n",
    "        print(y,'年',m,'月有31天')\n",
    "    elif m == 4 or m == 6 or m == 9 or m == 11:\n",
    "        print(y,'年',m,'月有30天')\n",
    "    elif m == 2:\n",
    "        print(y,'年',m,'月有29天')\n",
    "else:\n",
    "    if m == 1 or m == 3 or m == 5 or m == 7 or m ==8 or m == 10 or m == 12:\n",
    "        print(y,'年',m,'月有31天')\n",
    "    elif m == 4 or m == 6 or m == 9 or m == 11:\n",
    "        print(y,'年',m,'月有30天')\n",
    "    elif m == 2:\n",
    "        print(y,'年',m,'月有28天')"
   ]
  },
  {
   "cell_type": "code",
   "execution_count": 110,
   "metadata": {},
   "outputs": [
    {
     "name": "stdout",
     "output_type": "stream",
     "text": [
      "请输入正面还是反面，（1:正面 0;反面）1\n",
      "猜对啦，是正面\n"
     ]
    }
   ],
   "source": [
    "#7题\n",
    "import random\n",
    "a = random.randint(0,1)\n",
    "x = eval(input('请输入正面还是反面，（1:正面 0;反面）'))\n",
    "if x == 1 and a == x:\n",
    "    print('猜对啦，是正面')\n",
    "elif x == 1 and a != x:\n",
    "    print('猜错啦，是反面')\n",
    "elif x == 0 and a == x:\n",
    "    print('猜对啦，是反面')\n",
    "elif x == 0 and a != x:\n",
    "    print('猜错啦，是正面')"
   ]
  },
  {
   "cell_type": "markdown",
   "metadata": {},
   "source": [
    "- 8\n",
    "![](../Photo/49.png)"
   ]
  },
  {
   "cell_type": "code",
   "execution_count": 115,
   "metadata": {},
   "outputs": [
    {
     "name": "stdout",
     "output_type": "stream",
     "text": [
      "scissor 0 or 1 or 22\n",
      "机器出了剪刀，你输了\n"
     ]
    }
   ],
   "source": [
    "import random\n",
    "a = random.randint(0,2)\n",
    "x = eval(input('scissor 0 or 1 or 2'))\n",
    "if a == x:\n",
    "    print('平局')\n",
    "elif a == 0 and x == 1:\n",
    "    print('机器出了剪刀，你赢啦')\n",
    "elif a == 0 and x == 2:\n",
    "    print('机器出了剪刀，你输了')\n",
    "elif a == 1 and x == 2:\n",
    "    print('机器出了石头，你赢啦')\n",
    "elif a == 1 and x == 0:\n",
    "    print('机器出了石头，你输了')\n",
    "elif a == 2 and x == 0:\n",
    "    print('机器出了布，你赢啦')\n",
    "elif a == 2 and x == 1:\n",
    "    print('机器出了布，你输了')"
   ]
  },
  {
   "cell_type": "markdown",
   "metadata": {},
   "source": [
    "- 9\n",
    "![](../Photo/50.png)"
   ]
  },
  {
   "cell_type": "code",
   "execution_count": null,
   "metadata": {},
   "outputs": [],
   "source": [
    "import math\n",
    "y = eval(input('年'))\n",
    "m = eval(input('月'))\n",
    "q = eval(input('日'))\n",
    "if m == 1:\n",
    "    m = 13\n",
    "    y = y - 1\n",
    "elif m == 2:\n",
    "    m = 14\n",
    "    y = y - 1\n",
    "j = y/100\n",
    "k = y%100\n",
    "h=(q+((26*(m+1))//10)+k+k//4+j//4+5*j)%7\n",
    "print(int(h))\n"
   ]
  },
  {
   "cell_type": "markdown",
   "metadata": {},
   "source": [
    "- 10\n",
    "![](../Photo/51.png)"
   ]
  },
  {
   "cell_type": "code",
   "execution_count": 147,
   "metadata": {},
   "outputs": [
    {
     "name": "stdout",
     "output_type": "stream",
     "text": [
      "该张牌为方块 6\n"
     ]
    }
   ],
   "source": [
    "import random\n",
    "a = random.randint(1,13)\n",
    "b = random.randint(1,4)\n",
    "for i in range(1,14):\n",
    "        if b == i and i == 1:\n",
    "            print('该张牌为梅花',a)\n",
    "        elif b == i and i == 2:\n",
    "            print('该张牌为红桃',a)\n",
    "        elif b == i and i ==3:\n",
    "            print('该张牌为方块',a)\n",
    "        elif b == i and i ==4:\n",
    "            print('该张牌为黑桃',a)"
   ]
  },
  {
   "cell_type": "markdown",
   "metadata": {},
   "source": [
    "- 11\n",
    "![](../Photo/52.png)"
   ]
  },
  {
   "cell_type": "code",
   "execution_count": 149,
   "metadata": {},
   "outputs": [
    {
     "name": "stdout",
     "output_type": "stream",
     "text": [
      "输入一个三位数123\n",
      "123 is not a palindrome\n"
     ]
    }
   ],
   "source": [
    "x = eval(input('输入一个三位数'))\n",
    "x =str(x)\n",
    "if x[0] == x[2]:\n",
    "    print(x,'is a palindrome')\n",
    "else:\n",
    "    print(x,'is not a palindrome')"
   ]
  },
  {
   "cell_type": "markdown",
   "metadata": {},
   "source": [
    "- 12\n",
    "![](../Photo/53.png)"
   ]
  },
  {
   "cell_type": "code",
   "execution_count": 151,
   "metadata": {},
   "outputs": [
    {
     "name": "stdout",
     "output_type": "stream",
     "text": [
      "请输入三各边长1,2,3\n",
      "ERROR\n"
     ]
    }
   ],
   "source": [
    "a,b,c = eval(input('请输入三各边长'))\n",
    "if a+b > c and a+c > b and b+c > a:\n",
    "    print('The perimeter is',a+b+c)\n",
    "else:\n",
    "    print('ERROR')"
   ]
  }
 ],
 "metadata": {
  "kernelspec": {
   "display_name": "Python 3",
   "language": "python",
   "name": "python3"
  },
  "language_info": {
   "codemirror_mode": {
    "name": "ipython",
    "version": 3
   },
   "file_extension": ".py",
   "mimetype": "text/x-python",
   "name": "python",
   "nbconvert_exporter": "python",
   "pygments_lexer": "ipython3",
   "version": "3.6.5"
  }
 },
 "nbformat": 4,
 "nbformat_minor": 2
}
